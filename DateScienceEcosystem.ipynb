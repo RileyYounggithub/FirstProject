{
 "cells": [
  {
   "cell_type": "markdown",
   "id": "eb3f2d09-1bd8-4d46-baf2-0ff1fac9c2ce",
   "metadata": {},
   "source": [
    "# Data Science Tools and Ecosystem"
   ]
  },
  {
   "cell_type": "markdown",
   "id": "d1de7a72-44b8-4793-b520-371a6003eb95",
   "metadata": {},
   "source": [
    "In this notebook, Data Science Tools and Ecosystem are summarized."
   ]
  },
  {
   "cell_type": "markdown",
   "id": "bea70ef1-27ed-4cb6-b668-a368a6e465e1",
   "metadata": {},
   "source": [
    "Some of the popular languages that Data Scientists use are:"
   ]
  },
  {
   "cell_type": "markdown",
   "id": "8b046998-acc0-41e1-8c7e-60e4968e4ca6",
   "metadata": {},
   "source": [
    "1. Python\n",
    "2. R\n",
    "3. SQL"
   ]
  },
  {
   "cell_type": "markdown",
   "id": "42ee455b-6768-46cc-8567-05996cbc62a0",
   "metadata": {},
   "source": [
    "Some of the commonly used libraries used by Data Scientists include:"
   ]
  },
  {
   "cell_type": "markdown",
   "id": "3d794403-4c5c-4500-99fe-9deb97728739",
   "metadata": {},
   "source": [
    "1. Pandas\n",
    "2. NumPy\n",
    "3. Matplotlib"
   ]
  },
  {
   "cell_type": "markdown",
   "id": "32bef80c-3f01-45a4-806b-18f731a9bd8a",
   "metadata": {},
   "source": [
    "| Data Science Tools |\n",
    "|--------------------|\n",
    "| RStudios |\n",
    "| JupyterLabs |\n",
    "| Apache Spark |"
   ]
  },
  {
   "cell_type": "markdown",
   "id": "330cb308-0ef7-4bfa-b187-9e3e6386cc29",
   "metadata": {},
   "source": [
    "### Below are a few examples of evaluation arithmetic expressions in Python."
   ]
  },
  {
   "cell_type": "markdown",
   "id": "6ac8b2e3-5ab1-4da2-9a86-879fe2549bb6",
   "metadata": {},
   "source": [
    "This is a simple arithmetic expression to multiply, then add integers"
   ]
  },
  {
   "cell_type": "code",
   "execution_count": 13,
   "id": "3b2fa478-fc56-40bc-9126-47d9d6903908",
   "metadata": {},
   "outputs": [
    {
     "data": {
      "text/plain": [
       "17"
      ]
     },
     "execution_count": 13,
     "metadata": {},
     "output_type": "execute_result"
    }
   ],
   "source": [
    "(3*4)+5"
   ]
  },
  {
   "cell_type": "markdown",
   "id": "fd36650b-644e-44c9-aff2-ad344761953d",
   "metadata": {},
   "source": [
    "This will convert minutes to hours by dividing by 60"
   ]
  },
  {
   "cell_type": "code",
   "execution_count": 16,
   "id": "3829c446-be01-43f7-a640-712795c2ffb8",
   "metadata": {},
   "outputs": [
    {
     "data": {
      "text/plain": [
       "3.3333333333333335"
      ]
     },
     "execution_count": 16,
     "metadata": {},
     "output_type": "execute_result"
    }
   ],
   "source": [
    "200/60"
   ]
  },
  {
   "cell_type": "markdown",
   "id": "b614aa80-5f5d-4c4e-8f8e-d1016a39f441",
   "metadata": {},
   "source": [
    "**Objectives:**"
   ]
  },
  {
   "cell_type": "markdown",
   "id": "43093404-0a74-40a1-a5b2-99223c7e232f",
   "metadata": {},
   "source": [
    "- list popular languages\n",
    "- list popular libraries\n",
    "- list popular tools\n",
    "- create simple arithmetic expression"
   ]
  },
  {
   "cell_type": "markdown",
   "id": "69e1c546-2554-4359-be00-0fbb3768f5f1",
   "metadata": {},
   "source": [
    "## Author"
   ]
  },
  {
   "cell_type": "markdown",
   "id": "75d669b9-ed29-42ee-a122-97c4bbf199e0",
   "metadata": {},
   "source": [
    "Riley Young"
   ]
  },
  {
   "cell_type": "code",
   "execution_count": null,
   "id": "d6caa781-6e29-4275-b8b5-ac30d8cbd5b1",
   "metadata": {},
   "outputs": [],
   "source": []
  }
 ],
 "metadata": {
  "kernelspec": {
   "display_name": "Python 3 (ipykernel)",
   "language": "python",
   "name": "python3"
  },
  "language_info": {
   "codemirror_mode": {
    "name": "ipython",
    "version": 3
   },
   "file_extension": ".py",
   "mimetype": "text/x-python",
   "name": "python",
   "nbconvert_exporter": "python",
   "pygments_lexer": "ipython3",
   "version": "3.12.4"
  }
 },
 "nbformat": 4,
 "nbformat_minor": 5
}
